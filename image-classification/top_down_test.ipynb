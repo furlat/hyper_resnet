{
 "cells": [
  {
   "cell_type": "code",
   "execution_count": 1,
   "metadata": {
    "collapsed": true
   },
   "outputs": [],
   "source": [
    "import os\n",
    "import argparse\n",
    "import logging\n",
    "logging.basicConfig(level=logging.DEBUG)\n",
    "from common import find_mxnet, data, fit\n",
    "from common.util import download_file\n",
    "#from tf_iterators import *\n",
    "import mxnet as mx\n",
    "import numpy as np\n",
    "import numpy \n",
    "from mxnet import nd\n",
    "#from mxnet.module.module_tf import *"
   ]
  },
  {
   "cell_type": "code",
   "execution_count": 2,
   "metadata": {
    "collapsed": true
   },
   "outputs": [],
   "source": [
    "def cif100_iterator(data_dir,batch_size):\n",
    "    train = mx.io.ImageRecordIter(\n",
    "            path_imgrec         = os.path.join(data_dir, \"train.rec\"),\n",
    "            label_width         = 1,\n",
    "            data_name           = 'data',\n",
    "            label_name          = 'softmax1_label',\n",
    "            data_shape          = (3, 28, 28),\n",
    "            batch_size          = batch_size,\n",
    "            pad                 = 0,\n",
    "            fill_value          = 127,  # only used when pad is valid\n",
    "            rand_crop           = True,\n",
    "            #max_random_scale    = 1.0,  # 480 with imagnet, 32 with cifar10 448 with birds 0.93\n",
    "            #min_random_scale    = 0.53,  # 256.0/480.0\n",
    "            #max_aspect_ratio    =  0.25,\n",
    "            random_h            = 36,  # 0.4*90\n",
    "            random_s            = 50,  # 0.4*127\n",
    "            random_l            = 50,  # 0.4*127\n",
    "            #max_rotate_angle    = 10,\n",
    "            #max_shear_ratio     = 0.1, #\n",
    "            rand_mirror         = True,\n",
    "            shuffle             = True)\n",
    "            #num_parts           = kv.num_workers,\n",
    "            #part_index          = kv.rank)\n",
    "    val = mx.io.ImageRecordIter(\n",
    "            path_imgrec         = os.path.join(data_dir, \"test.rec\"),\n",
    "            label_width         = 1,\n",
    "            data_name           = 'data',\n",
    "            label_name          = 'softmax1_label',\n",
    "            batch_size          = batch_size,\n",
    "            max_random_scale    = 1,  # 480 with imagnet, 32 with cifar10\n",
    "            min_random_scale    = 1,  # 256.0/480.\n",
    "            data_shape          = (3,28, 28),\n",
    "            rand_crop           = False,\n",
    "            rand_mirror         = False)\n",
    "            #num_parts           = kv.num_workers,\n",
    "            #part_index          = kv.rank)\n",
    "    return train, val"
   ]
  },
  {
   "cell_type": "code",
   "execution_count": 3,
   "metadata": {
    "collapsed": true
   },
   "outputs": [],
   "source": [
    "class Cross_Entropy(mx.metric.EvalMetric):\n",
    "    \"\"\"Calculate accuracies of multi label\"\"\"\n",
    "\n",
    "    def __init__(self):\n",
    "        super(Cross_Entropy, self).__init__('cross-entropy')\n",
    "    def update(self, labels, preds):\n",
    "        mx.metric.check_label_shapes(labels, preds)\n",
    "        label = labels[0].asnumpy()\n",
    "        pred = preds[0].asnumpy()\n",
    "        for i in range(label.shape[0]):\n",
    "            prob = pred[i,numpy.int64(label[i])]\n",
    "            if len(labels) == 1:\n",
    "                self.sum_metric += (-numpy.log(prob)).sum()\n",
    "        self.num_inst += label.shape[0]"
   ]
  },
  {
   "cell_type": "code",
   "execution_count": 4,
   "metadata": {},
   "outputs": [
    {
     "name": "stdout",
     "output_type": "stream",
     "text": [
      "scalar gate\n",
      "scalar gate\n"
     ]
    },
    {
     "ename": "AttributeError",
     "evalue": "'module' object has no attribute 'uniform'",
     "output_type": "error",
     "traceback": [
      "\u001b[0;31m---------------------------------------------------------------------------\u001b[0m",
      "\u001b[0;31mAttributeError\u001b[0m                            Traceback (most recent call last)",
      "\u001b[0;32m<ipython-input-4-27e57b195bc9>\u001b[0m in \u001b[0;36m<module>\u001b[0;34m()\u001b[0m\n\u001b[1;32m     10\u001b[0m \u001b[0mnet\u001b[0m \u001b[0;34m=\u001b[0m \u001b[0mimport_module\u001b[0m\u001b[0;34m(\u001b[0m\u001b[0;34m'symbols.td_resnet'\u001b[0m\u001b[0;34m)\u001b[0m\u001b[0;34m\u001b[0m\u001b[0m\n\u001b[1;32m     11\u001b[0m \u001b[0;34m\u001b[0m\u001b[0m\n\u001b[0;32m---> 12\u001b[0;31m \u001b[0msym\u001b[0m\u001b[0;34m=\u001b[0m\u001b[0mnet\u001b[0m\u001b[0;34m.\u001b[0m\u001b[0mget_symbol\u001b[0m\u001b[0;34m(\u001b[0m\u001b[0;36m100\u001b[0m\u001b[0;34m,\u001b[0m \u001b[0;36m38\u001b[0m\u001b[0;34m,\u001b[0m \u001b[0mimage_shape\u001b[0m\u001b[0;34m,\u001b[0m\u001b[0mhyper\u001b[0m\u001b[0;34m=\u001b[0m\u001b[0mTrue\u001b[0m\u001b[0;34m,\u001b[0m\u001b[0mscalar_gate\u001b[0m\u001b[0;34m=\u001b[0m\u001b[0mTrue\u001b[0m\u001b[0;34m,\u001b[0m\u001b[0mnum_branch\u001b[0m\u001b[0;34m=\u001b[0m\u001b[0;36m2\u001b[0m\u001b[0;34m,\u001b[0m \u001b[0mconv_workspace\u001b[0m\u001b[0;34m=\u001b[0m\u001b[0;36m256\u001b[0m\u001b[0;34m,\u001b[0m\u001b[0mbottle_neck\u001b[0m\u001b[0;34m=\u001b[0m\u001b[0mTrue\u001b[0m\u001b[0;34m)\u001b[0m\u001b[0;34m\u001b[0m\u001b[0m\n\u001b[0m\u001b[1;32m     13\u001b[0m \u001b[0mmodel_prefix\u001b[0m\u001b[0;34m=\u001b[0m\u001b[0;34m'cif100_res38'\u001b[0m\u001b[0;34m\u001b[0m\u001b[0m\n",
      "\u001b[0;32m/home/ubuntu/mxnet/example/image-classification/symbols/td_resnet.py\u001b[0m in \u001b[0;36mget_symbol\u001b[0;34m(num_classes, num_layers, image_shape, hyper, scalar_gate, elemwise_gate, num_branch, conv_workspace, **kwargs)\u001b[0m\n\u001b[1;32m    507\u001b[0m                             \u001b[0mnum_branch\u001b[0m \u001b[0;34m=\u001b[0m \u001b[0mnum_branch\u001b[0m\u001b[0;34m,\u001b[0m\u001b[0;34m\u001b[0m\u001b[0m\n\u001b[1;32m    508\u001b[0m                   \u001b[0mbottle_neck\u001b[0m \u001b[0;34m=\u001b[0m \u001b[0mbottle_neck\u001b[0m\u001b[0;34m,\u001b[0m\u001b[0;34m\u001b[0m\u001b[0m\n\u001b[0;32m--> 509\u001b[0;31m                   workspace   = conv_workspace)\n\u001b[0m\u001b[1;32m    510\u001b[0m         \u001b[0;32melse\u001b[0m\u001b[0;34m:\u001b[0m\u001b[0;34m\u001b[0m\u001b[0m\n\u001b[1;32m    511\u001b[0m             return k_branch_resnet(units = units,\n",
      "\u001b[0;32m/home/ubuntu/mxnet/example/image-classification/symbols/td_resnet.py\u001b[0m in \u001b[0;36mhyper_k_branch_resnet\u001b[0;34m(units, num_stages, filter_list, num_classes, image_shape, num_branch, scalar_gate, elemwise_gate, bottle_neck, bn_mom, workspace, memonger)\u001b[0m\n\u001b[1;32m    179\u001b[0m         body = hyper_k_branch_residual_unit(body,hyper, filter_list[i+1], (1 if i==0 else 2, 1 if i==0 else 2), False,num_branch,\n\u001b[1;32m    180\u001b[0m                              \u001b[0mname\u001b[0m\u001b[0;34m=\u001b[0m\u001b[0;34m'stage%d_unit%d'\u001b[0m \u001b[0;34m%\u001b[0m \u001b[0;34m(\u001b[0m\u001b[0mi\u001b[0m \u001b[0;34m+\u001b[0m \u001b[0;36m1\u001b[0m\u001b[0;34m,\u001b[0m \u001b[0;36m1\u001b[0m\u001b[0;34m)\u001b[0m\u001b[0;34m,\u001b[0m\u001b[0mscalar_gate\u001b[0m\u001b[0;34m=\u001b[0m\u001b[0mscalar_gate\u001b[0m\u001b[0;34m,\u001b[0m\u001b[0melemwise_gate\u001b[0m\u001b[0;34m=\u001b[0m\u001b[0melemwise_gate\u001b[0m\u001b[0;34m,\u001b[0m \u001b[0mbottle_neck\u001b[0m\u001b[0;34m=\u001b[0m\u001b[0mbottle_neck\u001b[0m\u001b[0;34m,\u001b[0m \u001b[0mworkspace\u001b[0m\u001b[0;34m=\u001b[0m\u001b[0mworkspace\u001b[0m\u001b[0;34m,\u001b[0m\u001b[0;34m\u001b[0m\u001b[0m\n\u001b[0;32m--> 181\u001b[0;31m                              memonger=memonger)\n\u001b[0m\u001b[1;32m    182\u001b[0m         \u001b[0;32mfor\u001b[0m \u001b[0mj\u001b[0m \u001b[0;32min\u001b[0m \u001b[0mrange\u001b[0m\u001b[0;34m(\u001b[0m\u001b[0munits\u001b[0m\u001b[0;34m[\u001b[0m\u001b[0mi\u001b[0m\u001b[0;34m]\u001b[0m\u001b[0;34m-\u001b[0m\u001b[0;36m1\u001b[0m\u001b[0;34m)\u001b[0m\u001b[0;34m:\u001b[0m\u001b[0;34m\u001b[0m\u001b[0m\n\u001b[1;32m    183\u001b[0m             body = hyper_k_branch_residual_unit(body,hyper, filter_list[i+1], (1,1), True,num_branch, name='stage%d_unit%d' % (i + 1, j + 2),\n",
      "\u001b[0;32m/home/ubuntu/mxnet/example/image-classification/symbols/td_resnet.py\u001b[0m in \u001b[0;36mhyper_k_branch_residual_unit\u001b[0;34m(data, hyper, num_filter, stride, dim_match, num_branch, name, scalar_gate, elemwise_gate, batch_size, image_shape, num_gpus, bottle_neck, bn_mom, workspace, memonger)\u001b[0m\n\u001b[1;32m    122\u001b[0m         \u001b[0;32melse\u001b[0m\u001b[0;34m:\u001b[0m\u001b[0;34m\u001b[0m\u001b[0m\n\u001b[1;32m    123\u001b[0m \u001b[0;34m\u001b[0m\u001b[0m\n\u001b[0;32m--> 124\u001b[0;31m             \u001b[0mshortcut_w\u001b[0m\u001b[0;34m=\u001b[0m\u001b[0mmx\u001b[0m\u001b[0;34m.\u001b[0m\u001b[0msym\u001b[0m\u001b[0;34m.\u001b[0m\u001b[0mVariable\u001b[0m\u001b[0;34m(\u001b[0m\u001b[0mname\u001b[0m\u001b[0;34m+\u001b[0m\u001b[0;34m'_sc_weight'\u001b[0m\u001b[0;34m,\u001b[0m \u001b[0minit\u001b[0m\u001b[0;34m=\u001b[0m\u001b[0mmx\u001b[0m\u001b[0;34m.\u001b[0m\u001b[0minit\u001b[0m\u001b[0;34m.\u001b[0m\u001b[0muniform\u001b[0m\u001b[0;34m(\u001b[0m\u001b[0;34m)\u001b[0m\u001b[0;34m,\u001b[0m\u001b[0mdtype\u001b[0m\u001b[0;34m=\u001b[0m\u001b[0;34m'float32'\u001b[0m\u001b[0;34m)\u001b[0m\u001b[0;34m\u001b[0m\u001b[0m\n\u001b[0m\u001b[1;32m    125\u001b[0m             \u001b[0mshortcut\u001b[0m \u001b[0;34m=\u001b[0m \u001b[0mmx\u001b[0m\u001b[0;34m.\u001b[0m\u001b[0msym\u001b[0m\u001b[0;34m.\u001b[0m\u001b[0mConvolution\u001b[0m\u001b[0;34m(\u001b[0m\u001b[0mdata\u001b[0m\u001b[0;34m=\u001b[0m\u001b[0mact1\u001b[0m\u001b[0;34m,\u001b[0m\u001b[0mweight\u001b[0m\u001b[0;34m=\u001b[0m\u001b[0mshortcut_w\u001b[0m\u001b[0;34m,\u001b[0m \u001b[0mnum_filter\u001b[0m\u001b[0;34m=\u001b[0m\u001b[0mnum_filter\u001b[0m\u001b[0;34m,\u001b[0m \u001b[0mkernel\u001b[0m\u001b[0;34m=\u001b[0m\u001b[0;34m(\u001b[0m\u001b[0;36m1\u001b[0m\u001b[0;34m,\u001b[0m\u001b[0;36m1\u001b[0m\u001b[0;34m)\u001b[0m\u001b[0;34m,\u001b[0m \u001b[0mstride\u001b[0m\u001b[0;34m=\u001b[0m\u001b[0mstride\u001b[0m\u001b[0;34m,\u001b[0m \u001b[0mno_bias\u001b[0m\u001b[0;34m=\u001b[0m\u001b[0mTrue\u001b[0m\u001b[0;34m,\u001b[0m \u001b[0mworkspace\u001b[0m\u001b[0;34m=\u001b[0m\u001b[0mworkspace\u001b[0m\u001b[0;34m,\u001b[0m \u001b[0mname\u001b[0m\u001b[0;34m=\u001b[0m\u001b[0mname\u001b[0m\u001b[0;34m+\u001b[0m\u001b[0;34m'_sc'\u001b[0m\u001b[0;34m)\u001b[0m\u001b[0;34m\u001b[0m\u001b[0m\n\u001b[1;32m    126\u001b[0m             \u001b[0;32mprint\u001b[0m\u001b[0;34m(\u001b[0m\u001b[0;34m'sono buggato'\u001b[0m\u001b[0;34m)\u001b[0m\u001b[0;34m\u001b[0m\u001b[0m\n",
      "\u001b[0;31mAttributeError\u001b[0m: 'module' object has no attribute 'uniform'"
     ]
    }
   ],
   "source": [
    "image_shape = '3,28,28'\n",
    "batch_size = 128\n",
    "results_prefix='/home/ubuntu/results/'\n",
    "\n",
    "data_dir='/home/ubuntu/data/cifar100'\n",
    "train, val = cif100_iterator(data_dir,batch_size)\n",
    "label_names = [train.provide_label[0][0]]\n",
    "    \n",
    "from importlib import import_module\n",
    "net = import_module('symbols.td_resnet')\n",
    "\n",
    "sym=net.get_symbol(100, 38, image_shape,hyper=True,scalar_gate=True,num_branch=2, conv_workspace=256,bottle_neck=True)\n",
    "model_prefix='cif100_res38'"
   ]
  },
  {
   "cell_type": "code",
   "execution_count": null,
   "metadata": {
    "collapsed": true
   },
   "outputs": [],
   "source": [
    "#mx.viz.plot_network(sym)"
   ]
  },
  {
   "cell_type": "code",
   "execution_count": null,
   "metadata": {
    "collapsed": true
   },
   "outputs": [],
   "source": []
  },
  {
   "cell_type": "code",
   "execution_count": null,
   "metadata": {
    "collapsed": true
   },
   "outputs": [],
   "source": [
    "# imagenet_weights= '/home/ubuntu/models/imagenet_r50-lr05'\n",
    "# tornado_weights='/home/ubuntu/models/resnet-101'\n",
    "# #model_prefix= 'tryhard-resnet'\n",
    "# prefix = tornado_weights\n",
    "# #prefix = model_prefix\n",
    "# epoch=0\n",
    "# save_dict = nd.load('%s-%04d.params' % (prefix, epoch))\n",
    "# arg_params_imag = {}\n",
    "# aux_params_imag = {}\n",
    "# ext_check=['sc','fc1','data']\n",
    "# imagenet_par=[]\n",
    "# exact_check=['bn1_beta','bn1_gamma']\n",
    "# for k, v in save_dict.items():\n",
    "#     tp, name = k.split(':', 1)\n",
    "\n",
    "#     if tp == 'arg':\n",
    "#         arg_params_imag[name] = v\n",
    "        \n",
    "        \n",
    "#         #print name\n",
    "#         if not any(ext in name for ext in ext_check):\n",
    "#             if not any(ext == name for ext in exact_check):\n",
    "#                 imagenet_par.append(name)\n",
    "#                 if init_2=='imagenet':\n",
    "#                     arg_params_imag['_a_'+name] = v\n",
    "\n",
    "\n",
    "#     if tp == 'aux':\n",
    "#         aux_params_imag[name] = v\n",
    "#         if init_2=='imagenet':\n",
    "#             aux_params_imag['_a_'+name] = v\n",
    "# del arg_params_imag['fc1_bias']\n",
    "# del arg_params_imag['fc1_weight']\n",
    "\n",
    "\n",
    "\n",
    "# #arg_params_imag.list_arguments\n",
    "\n",
    "\n",
    "# #_a_bn_data_beta\n",
    "\n",
    "# symlist=sym.list_arguments()\n",
    "# gatelist=[s for s in symlist if 'gate' in s]"
   ]
  },
  {
   "cell_type": "code",
   "execution_count": null,
   "metadata": {
    "collapsed": true
   },
   "outputs": [],
   "source": [
    "fixed=None\n",
    "arg_params=None\n",
    "aux_params=None\n",
    "ctx=[mx.gpu(0)]\n",
    "mod = mx.mod.Module(sym, label_names=label_names,fixed_param_names=fixed,context=ctx)\n",
    "#\n",
    "checkpoint_path=results_prefix+model_prefix\n",
    "#checkpoint = mx.callback.module_checkpoint(mod,model_prefix)\n",
    "mod.bind(data_shapes=train.provide_data, label_shapes=train.provide_label)\n",
    "mod.init_params(initializer=mx.initializer.Uniform(0.01), arg_params=arg_params, aux_params=aux_params,\n",
    "                    allow_missing=True, force_init=False)\n",
    "\n",
    "checkpoint = mx.callback.module_checkpoint(mod,checkpoint_path,period=5)\n",
    "#lr_schedule it isimilar to the CIFAR100 schedule but half length of the steps\n",
    "schedule = [40000,60000,90000]\n",
    "begin_epoch=0"
   ]
  },
  {
   "cell_type": "code",
   "execution_count": null,
   "metadata": {
    "scrolled": true
   },
   "outputs": [],
   "source": [
    "mod.fit(train,\n",
    "         eval_data=val,\n",
    "         eval_metric=[Cross_Entropy(),mx.metric.Accuracy()],\n",
    "         #eval_metric=[mx.metric.Accuracy()],\n",
    "\n",
    "         batch_end_callback = [mx.callback.log_train_metric(50),mx.callback.Speedometer(batch_size,100)],\n",
    "         epoch_end_callback=checkpoint,\n",
    "         allow_missing=False,\n",
    "         begin_epoch=begin_epoch,\n",
    "         #log_prefix = model_prefix,\n",
    "         optimizer_params={'learning_rate':0.1, 'momentum': 0.9,'wd':0.0004, 'lr_scheduler': mx.lr_scheduler.MultiFactorScheduler(step=schedule,factor=0.1) },\n",
    "         num_epoch=90)"
   ]
  },
  {
   "cell_type": "code",
   "execution_count": null,
   "metadata": {
    "collapsed": true
   },
   "outputs": [],
   "source": []
  }
 ],
 "metadata": {
  "kernelspec": {
   "display_name": "Python 2",
   "language": "python",
   "name": "python2"
  },
  "language_info": {
   "codemirror_mode": {
    "name": "ipython",
    "version": 2
   },
   "file_extension": ".py",
   "mimetype": "text/x-python",
   "name": "python",
   "nbconvert_exporter": "python",
   "pygments_lexer": "ipython2",
   "version": "2.7.6"
  }
 },
 "nbformat": 4,
 "nbformat_minor": 2
}
